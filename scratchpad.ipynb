{
  "cells": [
    {
      "cell_type": "markdown",
      "metadata": {
        "id": "view-in-github",
        "colab_type": "text"
      },
      "source": [
        "<a href=\"https://colab.research.google.com/github/lorenalop20/Lopez_20/blob/main/scratchpad.ipynb\" target=\"_parent\"><img src=\"https://colab.research.google.com/assets/colab-badge.svg\" alt=\"Open In Colab\"/></a>"
      ]
    },
    {
      "cell_type": "code",
      "source": [
        "# Capturar información del estudiante\n",
        "nombre_universidad = input(\"Ingrese el nombre de la universidad del estudiante: \")\n",
        "nombre_estudiante = input(\"Ingrese el nombre del estudiante: \")\n",
        "nombre_profesor = input(\"Ingrese el nombre del profesor: \")\n",
        "carrera = input(\"Ingrese la carrera del estudiante: \")\n",
        "asignatura = input(\"Ingrese el nombre de la asignatura: \")\n",
        "semestre = input(\"Ingrese el semestre: \")\n",
        "modulo = input(\"Ingrese el módulo en el que está cursando: \")\n",
        "\n",
        "# Capturar las tres notas de los cortes\n",
        "nota_corte1 = float(input(\"Ingrese la nota del 1er corte: \"))\n",
        "nota_corte2 = float(input(\"Ingrese la nota del 2do corte: \"))\n",
        "nota_corte3 = float(input(\"Ingrese la nota del 3er corte: \"))\n",
        "\n",
        "# Calcular el promedio ponderado\n",
        "promedio_ponderado = (nota_corte1 * 0.3) + (nota_corte2 * 0.3) + (nota_corte3 * 0.4)\n",
        "\n",
        "# Capturar el comentario basado en el rendimiento\n",
        "if promedio_ponderado < 3.0:\n",
        "    comentario = f\"{nombre_estudiante} perdió la materia. Puedes mejorar en la materia.\"\n",
        "elif promedio_ponderado >= 3.0 and promedio_ponderado < 3.5:\n",
        "    comentario = f\"{nombre_estudiante} aprobó la materia. Puedes mejorar en algunos aspectos.\"\n",
        "elif promedio_ponderado >= 3.5 and promedio_ponderado < 4.5:\n",
        "    comentario = f\"{nombre_estudiante} aprobó la materia. ¡Puedes mejorar en la materia!\"\n",
        "elif promedio_ponderado >= 4.5 and promedio_ponderado <= 5.0:\n",
        "    comentario = f\"{nombre_estudiante} ha tenido un excelente desempeño en la materia. ¡Felicidades!\"\n",
        "else:\n",
        "    comentario = \"Error: La nota ingresada es inválida.\"\n",
        "\n",
        "# Mostrar el resultado y el comentario\n",
        "print(\"\\nResultados:\")\n",
        "print(f\"Universidad: {nombre_universidad}\")\n",
        "print(f\"Estudiante: {nombre_estudiante}\")\n",
        "print(f\"Profesor: {nombre_profesor}\")\n",
        "print(f\"Carrera: {carrera}\")\n",
        "print(f\"Asignatura: {asignatura}\")\n",
        "print(f\"Semestre: {semestre}\")\n",
        "print(f\"Módulo: {modulo}\")\n",
        "print(f\"Nota del 1er corte: {nota_corte1}\")\n",
        "print(f\"Nota del 2do corte: {nota_corte2}\")\n",
        "print(f\"Nota del 3er corte: {nota_corte3}\")\n",
        "print(f\"Promedio ponderado: {promedio_ponderado}\")\n",
        "print(f\"Comentario: {comentario}\")\n"
      ],
      "metadata": {
        "id": "4WvBakGosN1M",
        "outputId": "663e8b03-2f1b-45f6-e26e-f2948e5a0130",
        "colab": {
          "base_uri": "https://localhost:8080/"
        }
      },
      "execution_count": 10,
      "outputs": [
        {
          "output_type": "stream",
          "name": "stdout",
          "text": [
            "Ingrese el nombre de la universidad del estudiante: iudc\n",
            "Ingrese el nombre del estudiante: lorena\n",
            "Ingrese el nombre del profesor: javer\n",
            "Ingrese la carrera del estudiante: ing sistemas\n",
            "Ingrese el nombre de la asignatura: desarrollo\n",
            "Ingrese el semestre: sexto\n",
            "Ingrese el módulo en el que está cursando: 2\n",
            "Ingrese la nota del 1er corte: 3.0\n",
            "Ingrese la nota del 2do corte: 1.0\n",
            "Ingrese la nota del 3er corte: 0\n",
            "\n",
            "Resultados:\n",
            "Universidad: iudc\n",
            "Estudiante: lorena\n",
            "Profesor: javer\n",
            "Carrera: ing sistemas\n",
            "Asignatura: desarrollo\n",
            "Semestre: sexto\n",
            "Módulo: 2\n",
            "Nota del 1er corte: 3.0\n",
            "Nota del 2do corte: 1.0\n",
            "Nota del 3er corte: 0.0\n",
            "Promedio ponderado: 1.2\n",
            "Comentario: lorena perdió la materia. Puedes mejorar en la materia.\n"
          ]
        }
      ]
    }
  ],
  "metadata": {
    "colab": {
      "name": "scratchpad",
      "provenance": [],
      "include_colab_link": true
    },
    "kernelspec": {
      "display_name": "Python 3",
      "name": "python3"
    }
  },
  "nbformat": 4,
  "nbformat_minor": 0
}